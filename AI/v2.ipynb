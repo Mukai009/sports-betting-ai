{
 "cells": [
  {
   "cell_type": "markdown",
   "metadata": {
    "id": "FsJdp772DKKq"
   },
   "source": [
    "# Import Dependenciesg"
   ]
  },
  {
   "cell_type": "code",
   "execution_count": null,
   "metadata": {
    "id": "PHXDsf62CjCx"
   },
   "outputs": [],
   "source": [
    "import tensorflow as tf\n",
    "import pandas as pd\n",
    "import keras"
   ]
  },
  {
   "cell_type": "code",
   "execution_count": null,
   "metadata": {
    "colab": {
     "base_uri": "https://localhost:8080/",
     "height": 35
    },
    "id": "y5JjpgRLDP4y",
    "outputId": "89ca2f5b-c007-4532-a549-358536c54864"
   },
   "outputs": [],
   "source": [
    "keras.__version__"
   ]
  },
  {
   "cell_type": "code",
   "execution_count": null,
   "metadata": {
    "colab": {
     "base_uri": "https://localhost:8080/",
     "height": 35
    },
    "id": "FZntxWoaDhMF",
    "outputId": "7efbb5c5-c320-42eb-cbbc-d1d75dcf6bb8"
   },
   "outputs": [],
   "source": [
    "tf.__version__"
   ]
  },
  {
   "cell_type": "code",
   "execution_count": null,
   "metadata": {
    "colab": {
     "base_uri": "https://localhost:8080/"
    },
    "id": "q54GH9XulvWu",
    "outputId": "dcfc0d39-1256-490a-cdbb-72e6eabeead6"
   },
   "outputs": [],
   "source": [
    "print(\"Num GPUs Available: \", len(tf.config.list_physical_devices('GPU')))"
   ]
  },
  {
   "cell_type": "markdown",
   "metadata": {
    "id": "ep1KBSt1Dmci"
   },
   "source": [
    "# Read in the Data "
   ]
  },
  {
   "cell_type": "code",
   "execution_count": null,
   "metadata": {
    "id": "BUnaJHajDkrm"
   },
   "outputs": [],
   "source": [
    "rawData = pd.read_excel(\"Full-Data-Set-UnderOver-2020-21.xlsx\")\n",
    "rawData = rawData.sample(frac=1)"
   ]
  },
  {
   "cell_type": "code",
   "execution_count": null,
   "metadata": {
    "colab": {
     "base_uri": "https://localhost:8080/",
     "height": 411
    },
    "id": "ks3rdgFaEFev",
    "outputId": "3ac46a3b-8a13-48cd-c507-9223d705fa8e"
   },
   "outputs": [],
   "source": [
    "rawData.describe()"
   ]
  },
  {
   "cell_type": "markdown",
   "metadata": {
    "id": "MefJrXUvHHJy"
   },
   "source": [
    "## Clean the Data"
   ]
  },
  {
   "cell_type": "code",
   "execution_count": null,
   "metadata": {
    "id": "DQZUrgHUHA3b"
   },
   "outputs": [],
   "source": [
    "filteredData = rawData.drop([\"Unnamed: 0\"], axis = 1)\n",
    "filteredData = filteredData.drop([\"Score\"], axis = 1)\n",
    "filteredData = filteredData.drop([\"GP\"], axis = 1)\n",
    "filteredData = filteredData.drop([\"GP.1\"], axis = 1)\n",
    "filteredData = filteredData.drop([\"Home-Team-Win\"], axis = 1)\n",
    "filteredData = filteredData.drop([\"TEAM_NAME\"], axis = 1)\n",
    "filteredData = filteredData.drop([\"Date\"], axis = 1)\n",
    "filteredData = filteredData.drop([\"MIN\", \"W\", \"W.1\", \"L\", \"L.1\", \"PLUS_MINUS\", \"PLUS_MINUS.1\", \"PLUS_MINUS_RANK\", \"PLUS_MINUS_RANK.1\", \"W_RANK\", \"W_RANK.1\", \"L_RANK\", \"L_RANK.1\"], axis = 1)\n",
    "filteredData = filteredData.drop([\"MIN.1\"], axis = 1)\n",
    "filteredData = filteredData.drop([\"MIN_RANK.1\"], axis = 1)\n",
    "filteredData = filteredData.drop([\"MIN_RANK\"], axis = 1)\n",
    "filteredData = filteredData.drop([\"TEAM_NAME.1\"], axis = 1)\n",
    "filteredData = filteredData.drop([\"Date.1\"], axis = 1)\n",
    "filteredData = filteredData.drop([\"OU\"], axis = 1)\n",
    "filteredData = filteredData.drop([\"OU-Cover\"], axis = 1)\n",
    "filteredData = filteredData.drop([\"GP_RANK\"], axis = 1)\n",
    "filteredData = filteredData.drop([\"GP_RANK.1\"], axis = 1)"
   ]
  },
  {
   "cell_type": "markdown",
   "metadata": {
    "id": "sAOvw2kOusdd"
   },
   "source": [
    "# Train the Model"
   ]
  },
  {
   "cell_type": "markdown",
   "metadata": {
    "id": "kWhlML-GeLgN"
   },
   "source": [
    "#### Get the outputs"
   ]
  },
  {
   "cell_type": "code",
   "execution_count": null,
   "metadata": {
    "id": "NJZxoaf_ucLR"
   },
   "outputs": [],
   "source": [
    "output = rawData['Home-Team-Win']"
   ]
  },
  {
   "cell_type": "code",
   "execution_count": null,
   "metadata": {
    "colab": {
     "base_uri": "https://localhost:8080/"
    },
    "id": "nXBxjFR8g7V-",
    "outputId": "30d595b4-534c-466c-a80b-37fce964be85"
   },
   "outputs": [],
   "source": [
    "#get 80% for training 20% for testing\n",
    "print(len(filteredData))\n",
    "test_len = int(len(filteredData) * 0.8)\n",
    "x_train = filteredData.take(range(test_len))\n",
    "x_test = filteredData.take(range(test_len, len(filteredData)))\n",
    "y_train = output.take(range(test_len))\n",
    "y_test = output.take(range(test_len, len(filteredData)))"
   ]
  },
  {
   "cell_type": "code",
   "execution_count": null,
   "metadata": {
    "id": "lQgt1Rr2iWqZ"
   },
   "outputs": [],
   "source": [
    "test_len = int(len(filteredData) * 0.9)\n",
    "x_train = filteredData.take(range(test_len))\n",
    "x_test = filteredData.take(range(test_len, len(filteredData)))\n",
    "y_train = output.take(range(test_len))\n",
    "y_test = output.take(range(test_len, len(filteredData)))"
   ]
  },
  {
   "cell_type": "code",
   "execution_count": null,
   "outputs": [],
   "source": [
    "import datetime\n",
    "%load_ext tensorboard\n",
    "log_dir = \"logs/fit/\" + datetime.datetime.now().strftime(\"%Y%m%d-%H%M%S\")\n",
    "tensorboard_callback = tf.keras.callbacks.TensorBoard(log_dir=log_dir, histogram_freq=1)\n"
   ],
   "metadata": {
    "collapsed": false
   }
  },
  {
   "cell_type": "code",
   "execution_count": null,
   "metadata": {
    "id": "rxSIiK8Dea0T"
   },
   "outputs": [],
   "source": [
    "model = tf.keras.models.Sequential()\n",
    "model.add(tf.keras.layers.Flatten())\n",
    "model.add(tf.keras.layers.Dense(170, activation=tf.nn.relu6))\n",
    "model.add(tf.keras.layers.Dropout(rate=.25))\n",
    "model.add(tf.keras.layers.Dense(150, activation=tf.nn.relu6))\n",
    "model.add(tf.keras.layers.Dense(75, activation=tf.nn.relu6))\n",
    "model.add(tf.keras.layers.Dropout(rate=.15))\n",
    "model.add(tf.keras.layers.Dense(30, activation=tf.nn.relu6))\n",
    "model.add(tf.keras.layers.Dense(15, activation=tf.nn.relu6))\n",
    "model.add(tf.keras.layers.Dense(2, activation=tf.nn.softmax, name=\"output_layer\"))\n"
   ]
  },
  {
   "cell_type": "code",
   "execution_count": null,
   "metadata": {
    "colab": {
     "base_uri": "https://localhost:8080/"
    },
    "id": "G98ljKwHf43I",
    "outputId": "82b68fc3-4c44-4848-b3b2-f7099a5b57fd"
   },
   "outputs": [],
   "source": [
    "model.build( x_train.shape )\n",
    "model.summary()"
   ]
  },
  {
   "cell_type": "code",
   "execution_count": null,
   "metadata": {
    "id": "kQWah4KxgXiD"
   },
   "outputs": [],
   "source": [
    "from keras.optimizers import Adam\n",
    "log_dir = \"logs/fit/\" + datetime.datetime.now().strftime(\"%Y%m%d-%H%M%S\")\n",
    "tensorboard_callback = tf.keras.callbacks.TensorBoard(log_dir=log_dir, histogram_freq=1)\n",
    "model.compile(Adam(learning_rate=0.0005), loss='sparse_categorical_crossentropy', metrics=['accuracy'])"
   ]
  },
  {
   "cell_type": "code",
   "execution_count": null,
   "metadata": {
    "id": "HVaJA-BYgb8r"
   },
   "outputs": [],
   "source": [
    "model.fit(x_train, y_train, epochs=60, validation_split=0.30, batch_size=3_000, verbose=2, shuffle=True, workers=15, use_multiprocessing=True, callbacks=[tensorboard_callback])"
   ]
  },
  {
   "cell_type": "code",
   "execution_count": null,
   "metadata": {
    "colab": {
     "base_uri": "https://localhost:8080/"
    },
    "id": "cPaTuHBtuByU",
    "outputId": "0520a618-fc33-40a2-b80a-94ace163c9fc"
   },
   "outputs": [],
   "source": [
    "todayPredictions = model.predict([x_test])"
   ]
  },
  {
   "cell_type": "markdown",
   "metadata": {
    "id": "sVmwr3oOu4Fo"
   },
   "source": [
    "# Save the Model"
   ]
  },
  {
   "cell_type": "code",
   "execution_count": null,
   "outputs": [],
   "source": [
    "import datetime\n",
    "model.save(f\"model_{datetime.datetime.utcnow()}\")"
   ],
   "metadata": {
    "collapsed": false
   }
  }
 ],
 "metadata": {
  "accelerator": "GPU",
  "colab": {
   "provenance": []
  },
  "gpuClass": "standard",
  "kernelspec": {
   "display_name": "ldm",
   "language": "python",
   "name": "python3"
  },
  "language_info": {
   "name": "python",
   "version": "3.8.5 (default, Sep  4 2020, 07:30:14) \n[GCC 7.3.0]"
  },
  "vscode": {
   "interpreter": {
    "hash": "3bb68d0ea94455c6db74225640d58336d2197de5871f4cce798098ff3da94acb"
   }
  }
 },
 "nbformat": 4,
 "nbformat_minor": 0
}
